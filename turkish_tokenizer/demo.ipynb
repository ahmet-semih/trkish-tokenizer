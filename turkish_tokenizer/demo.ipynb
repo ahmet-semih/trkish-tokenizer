{
 "cells": [
  {
   "cell_type": "code",
   "execution_count": 2,
   "id": "d72825ad",
   "metadata": {},
   "outputs": [
    {
     "name": "stdout",
     "output_type": "stream",
     "text": [
      "['yapılı', 'r', 'ke', 'n', ' ', 'kır', 'ılı', 'r', 'ke', 'n', ' ', 'oku', 'yor', ' ', 'söylü', 'yor', 'du', ' ', 'başla', 'n', 'mış', 'tır', ' ', 'bili', 'ndi', 'k', ' ', '<uppercase>', 'ankara', '’', 'yla', ' ', 'reng', 'a', ' ', 'renk', ' ', '<uppercase>', 'türkiye', \"'\", 'nin', ' ', '<uppercase>', 'türkiye', \"'\", 'nin', ' ', '<uppercase>', 'türkiye', '’', 'de']\n",
      "[2530, 20046, 5117, 20040, 2, 3766, 14895, 20046, 5117, 20040, 2, 2656, 20041, 2, 2306, 20041, 20026, 2, 2206, 20040, 20016, 20028, 2, 2307, 17591, 32267, 2, 0, 3399, 31817, 20023, 2, 245, 20037, 2, 245, 2, 0, 4563, 31881, 20022, 2, 0, 4563, 31881, 20022, 2, 0, 4563, 31817, 20024]\n",
      "yapılırken kırılırken okuyor söylüyordu başlanmüştür bilendik Ankara’yla renga renk Türkiye'nin Türkiye'nin Türkiye’de\n"
     ]
    }
   ],
   "source": [
    "from turkish_tokenizer import TurkishTokenizer\n",
    "\n",
    "tokenizer = TurkishTokenizer()\n",
    "\n",
    "text = \"yapılırken kırılırken okuyor söylüyordu başlanmıştır bilindik Ankara’yla renga renk Türkiye'nin Türkiye'nin Türkiye’de\"\n",
    "\n",
    "tokens = tokenizer.tokenize(text)\n",
    "ids = tokenizer.encode(text)\n",
    "\n",
    "print(tokens)\n",
    "print(ids)\n",
    "print(tokenizer.decode(ids))"
   ]
  },
  {
   "cell_type": "code",
   "execution_count": null,
   "id": "4f934a95",
   "metadata": {},
   "outputs": [],
   "source": []
  }
 ],
 "metadata": {
  "kernelspec": {
   "display_name": "Python 3",
   "language": "python",
   "name": "python3"
  },
  "language_info": {
   "codemirror_mode": {
    "name": "ipython",
    "version": 3
   },
   "file_extension": ".py",
   "mimetype": "text/x-python",
   "name": "python",
   "nbconvert_exporter": "python",
   "pygments_lexer": "ipython3",
   "version": "3.13.3"
  }
 },
 "nbformat": 4,
 "nbformat_minor": 5
}
