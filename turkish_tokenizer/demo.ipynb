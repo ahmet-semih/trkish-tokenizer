{
 "cells": [
  {
   "cell_type": "code",
   "execution_count": 1,
   "id": "d72825ad",
   "metadata": {},
   "outputs": [
    {
     "name": "stdout",
     "output_type": "stream",
     "text": [
      "['yapılı', 'r', 'ke', 'n', ' ', 'kır', 'ılı', 'r', 'ke', 'n', ' ', 'oku', 'yor', ' ', 'söylü', 'yor', 'du', ' ', 'başla', 'n', 'mış', 'tır', ' ', 'bili', 'ndi', 'k', ' ', '<uppercase>', 'ankara', \"'\", 'yla', ' ', 'reng', 'a', ' ', 'renk', ' ', '<uppercase>', 'türkiye', \"'\", 'nin', ' ', '<uppercase>', 'türkiye', \"'\", 'nin', ' ', '<uppercase>', 'türkiye', \"'\", 'de']\n",
      "[2530, 20046, 5117, 20040, 2, 3766, 14895, 20046, 5117, 20040, 2, 2656, 20041, 2, 2306, 20041, 20026, 2, 2206, 20040, 20016, 20028, 2, 2307, 17591, 32267, 2, 0, 3399, 31881, 20023, 2, 245, 20037, 2, 245, 2, 0, 4563, 31881, 20022, 2, 0, 4563, 31881, 20022, 2, 0, 4563, 31881, 20024]\n",
      "yapılırken kırılırken okuyor söylüyordu başlanmüştür bilendik Ankara'yla renga renk Türkiye'nin Türkiye'nin Türkiye'de\n"
     ]
    }
   ],
   "source": [
    "import sys\n",
    "import os\n",
    "# Add the parent directory to the path so we can import the module\n",
    "sys.path.insert(0, os.path.dirname(os.getcwd()))\n",
    "\n",
    "# Import the module directly\n",
    "import turkish_tokenizer.turkish_tokenizer as tt\n",
    "\n",
    "tokenizer = tt.TurkishTokenizer()\n",
    "\n",
    "text = \"yapılırken kırılırken okuyor söylüyordu başlanmıştır bilindik Ankara'yla renga renk Türkiye'nin Türkiye'nin Türkiye'de\"\n",
    "\n",
    "tokens = tokenizer.tokenize(text)\n",
    "ids = tokenizer.encode(text)\n",
    "\n",
    "print(tokens)\n",
    "print(ids)\n",
    "print(tokenizer.decode(ids))"
   ]
  },
  {
   "cell_type": "code",
   "execution_count": 4,
   "id": "4f934a95",
   "metadata": {},
   "outputs": [
    {
     "data": {
      "text/plain": [
       "(32768, 32768)"
      ]
     },
     "execution_count": 4,
     "metadata": {},
     "output_type": "execute_result"
    }
   ],
   "source": [
    "import json\n",
    "\n",
    "with open(\"kokler.json\", \"r\") as f:\n",
    "    kokler = json.load(f)\n",
    "\n",
    "with open(\"ekler.json\", \"r\") as f:\n",
    "    ekler = json.load(f)\n",
    "\n",
    "with open(\"bpe_tokenler.json\", \"r\") as f:\n",
    "    bpe_tokenler = json.load(f)\n",
    "\n",
    "reverse_dict = {v: k for k, v in bpe_tokenler.items()}\n",
    "for k, v in ekler.items():\n",
    "  reverse_dict[v] = k\n",
    "for k, v in kokler.items():\n",
    "  reverse_dict[v] = k\n",
    "\n",
    "len(reverse_dict), tokenizer.vocab_size"
   ]
  },
  {
   "cell_type": "code",
   "execution_count": null,
   "id": "085b7624",
   "metadata": {},
   "outputs": [
    {
     "data": {
      "text/plain": [
       "32768"
      ]
     },
     "execution_count": 17,
     "metadata": {},
     "output_type": "execute_result"
    }
   ],
   "source": []
  },
  {
   "cell_type": "code",
   "execution_count": null,
   "id": "b125e729",
   "metadata": {},
   "outputs": [
    {
     "data": {
      "text/plain": [
       "32768"
      ]
     },
     "execution_count": 2,
     "metadata": {},
     "output_type": "execute_result"
    }
   ],
   "source": []
  },
  {
   "cell_type": "code",
   "execution_count": 5,
   "id": "e56cb404",
   "metadata": {},
   "outputs": [],
   "source": [
    "for k, v in kokler.items():\n",
    "  if k in bpe_tokenler:\n",
    "     print(\"bpe\", k)\n",
    "  if k in ekler:\n",
    "    print(\"ek\", k)\n",
    "for k, v in ekler.items():\n",
    "    if k in bpe_tokenler:\n",
    "        print(\"bpe\", k)\n",
    "    if k in kokler:\n",
    "        print(\"kok\", k)"
   ]
  }
 ],
 "metadata": {
  "kernelspec": {
   "display_name": "Python 3",
   "language": "python",
   "name": "python3"
  },
  "language_info": {
   "codemirror_mode": {
    "name": "ipython",
    "version": 3
   },
   "file_extension": ".py",
   "mimetype": "text/x-python",
   "name": "python",
   "nbconvert_exporter": "python",
   "pygments_lexer": "ipython3",
   "version": "3.13.3"
  }
 },
 "nbformat": 4,
 "nbformat_minor": 5
}
