{
 "cells": [
  {
   "cell_type": "code",
   "execution_count": null,
   "id": "f747b8d6",
   "metadata": {},
   "outputs": [],
   "source": [
    "100\n",
    "19529"
   ]
  },
  {
   "cell_type": "code",
   "execution_count": 31,
   "id": "fe8d10af",
   "metadata": {},
   "outputs": [],
   "source": [
    "import json\n",
    "\n",
    "used_ids = set()\n",
    "\n",
    "# Load JSON\n",
    "with open(\"kokler.json\", \"r\", encoding=\"utf-8\") as f:\n",
    "    kokler = json.load(f)\n",
    "\n",
    "new_json_dict={}\n",
    "\n",
    "for kok in kokler:\n",
    "\n",
    "    if(kokler[kok]<=99 or kokler[kok]>=19530):\n",
    "        new_json_dict[kok] = kokler[kok]\n",
    "        continue\n",
    "\n",
    "    if (kokler[kok] in used_ids):\n",
    "        new_kok = \" \"+kok\n",
    "        new_json_dict[new_kok] = kokler[kok]\n",
    "    else:\n",
    "        new_kok = \" \"+kok\n",
    "        new_json_dict[new_kok] = kokler[kok]\n",
    "        used_ids.add(kokler[kok])\n",
    "\n",
    "\n",
    "with open(\"kokler_bosluk_tokeni_eklenmis.json\", \"w\", encoding=\"utf-8\") as f:\n",
    "    json.dump(new_json_dict, f, ensure_ascii=False, indent=4)"
   ]
  }
 ],
 "metadata": {
  "kernelspec": {
   "display_name": ".venv",
   "language": "python",
   "name": "python3"
  },
  "language_info": {
   "codemirror_mode": {
    "name": "ipython",
    "version": 3
   },
   "file_extension": ".py",
   "mimetype": "text/x-python",
   "name": "python",
   "nbconvert_exporter": "python",
   "pygments_lexer": "ipython3",
   "version": "3.13.2"
  }
 },
 "nbformat": 4,
 "nbformat_minor": 5
}
